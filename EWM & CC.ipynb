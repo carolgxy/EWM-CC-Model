{
 "cells": [
  {
   "cell_type": "code",
   "execution_count": null,
   "id": "acf237b5-c410-4383-9672-7f7ad0e3584d",
   "metadata": {},
   "outputs": [],
   "source": [
    "import pandas as pd\n",
    "import numpy as np\n",
    "from sklearn.preprocessing import MinMaxScaler\n",
    "\n",
    "# input data\n",
    "df = pd.read_csv(\"./sample data.csv\")\n",
    "\n",
    "columns_to_normalize = ['Enclosure', 'Greeness', 'Openness']\n",
    "\n",
    "data = df[columns_to_normalize]\n",
    "\n",
    "# MinMaxScaler\n",
    "scaler = MinMaxScaler()\n",
    "data[columns_to_normalize] = scaler.fit_transform(data[columns_to_normalize])"
   ]
  },
  {
   "cell_type": "code",
   "execution_count": null,
   "id": "efa2da11-7537-4588-9357-7867647394e6",
   "metadata": {},
   "outputs": [],
   "source": [
    "# Entropy Weight Method\n",
    "def process_negative_indicators(data, negative_indicators):\n",
    "    for col in negative_indicators:\n",
    "        data[col] = data[col].max() - data[col]\n",
    "    return data\n",
    "\n",
    "def calculate_entropy(data):\n",
    "    entropy = []\n",
    "    total_rows = len(data)\n",
    "    \n",
    "    for column in data.columns:\n",
    "        freq = data[column].value_counts()\n",
    "        probabilities = freq / total_rows\n",
    "        entropy.append(-sum(probabilities * np.log2(probabilities)))\n",
    "    \n",
    "    return entropy\n",
    "\n",
    "def calculate_weights(entropy):\n",
    "    total_entropy = sum(entropy)\n",
    "    weights = [e / total_entropy for e in entropy]\n",
    "    return weights\n",
    "\n",
    "def calculate_new_values(data, weights):\n",
    "    new_values = data.apply(lambda x: np.dot(x, weights), axis=1)\n",
    "    return new_values\n",
    "\n",
    "negative_indicators = ['Enclosure']\n",
    "data = process_negative_indicators(data, negative_indicators)\n",
    "\n",
    "entropy = calculate_entropy(data)\n",
    "weights = calculate_weights(entropy)\n",
    "new_values = calculate_new_values(data, weights)\n",
    "\n",
    "# output Entropy Weight Method results\n",
    "df['Perception'] = new_values"
   ]
  },
  {
   "cell_type": "code",
   "execution_count": null,
   "id": "e4b7cde9-8e02-4c42-9479-5b7c5a035769",
   "metadata": {},
   "outputs": [],
   "source": [
    "# Coupling Coordination Model\n",
    "C = 3 * (df['Population'] * df['Perception']* df['Facilities'])**(1/3) / (df['Population'] + df['Perception'] + df['Facilities'])\n",
    "T = (1/3) * df['Population'] + (1/3) * df['Perception'] + (1/3) * df['Facilities']\n",
    "D = (C * T)**(1/3)\n",
    "\n",
    "CC_model = pd.DataFrame()\n",
    "\n",
    "# output Coupling Coordination Model results\n",
    "CC_model['Coupling'] = C\n",
    "CC_model['Coordination'] = T\n",
    "CC_model['Coupling-Coordination'] = D"
   ]
  }
 ],
 "metadata": {
  "kernelspec": {
   "display_name": "Python 3 (ipykernel)",
   "language": "python",
   "name": "python3"
  },
  "language_info": {
   "codemirror_mode": {
    "name": "ipython",
    "version": 3
   },
   "file_extension": ".py",
   "mimetype": "text/x-python",
   "name": "python",
   "nbconvert_exporter": "python",
   "pygments_lexer": "ipython3",
   "version": "3.9.18"
  },
  "widgets": {
   "application/vnd.jupyter.widget-state+json": {
    "state": {},
    "version_major": 2,
    "version_minor": 0
   }
  }
 },
 "nbformat": 4,
 "nbformat_minor": 5
}
